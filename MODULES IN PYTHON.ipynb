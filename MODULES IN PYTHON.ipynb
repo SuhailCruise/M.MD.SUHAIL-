{
 "cells": [
  {
   "cell_type": "code",
   "execution_count": 13,
   "id": "9c164278",
   "metadata": {},
   "outputs": [],
   "source": [
    "import math as m"
   ]
  },
  {
   "cell_type": "code",
   "execution_count": 14,
   "id": "c6ee5eaf",
   "metadata": {},
   "outputs": [
    {
     "data": {
      "text/plain": [
       "5.0990195135927845"
      ]
     },
     "execution_count": 14,
     "metadata": {},
     "output_type": "execute_result"
    }
   ],
   "source": [
    "m.sqrt(26)"
   ]
  },
  {
   "cell_type": "markdown",
   "id": "e7db41d9",
   "metadata": {},
   "source": [
    "# or"
   ]
  },
  {
   "cell_type": "code",
   "execution_count": 8,
   "id": "36369b90",
   "metadata": {},
   "outputs": [
    {
     "data": {
      "text/plain": [
       "2.0"
      ]
     },
     "execution_count": 8,
     "metadata": {},
     "output_type": "execute_result"
    }
   ],
   "source": [
    "math.sqrt(4)"
   ]
  },
  {
   "cell_type": "code",
   "execution_count": 9,
   "id": "dd6fd674",
   "metadata": {},
   "outputs": [
    {
     "data": {
      "text/plain": [
       "3.141592653589793"
      ]
     },
     "execution_count": 9,
     "metadata": {},
     "output_type": "execute_result"
    }
   ],
   "source": [
    "math.pi"
   ]
  },
  {
   "cell_type": "markdown",
   "id": "54b784f4",
   "metadata": {},
   "source": [
    "# Find the area of given radius"
   ]
  },
  {
   "cell_type": "code",
   "execution_count": 15,
   "id": "621738e3",
   "metadata": {},
   "outputs": [],
   "source": [
    "import math as m"
   ]
  },
  {
   "cell_type": "code",
   "execution_count": 16,
   "id": "ad368c48",
   "metadata": {},
   "outputs": [],
   "source": [
    "pi=m.pi"
   ]
  },
  {
   "cell_type": "code",
   "execution_count": 23,
   "id": "90a82912",
   "metadata": {},
   "outputs": [
    {
     "name": "stdout",
     "output_type": "stream",
     "text": [
      "Enter the radius value;-12\n"
     ]
    },
    {
     "data": {
      "text/plain": [
       "452.3893421169302"
      ]
     },
     "execution_count": 23,
     "metadata": {},
     "output_type": "execute_result"
    }
   ],
   "source": [
    "r=int(input(\"Enter the radius value;-\"))\n",
    "Area_circle=pi*(r*r)\n",
    "Area_circle"
   ]
  },
  {
   "cell_type": "markdown",
   "id": "0d681e80",
   "metadata": {},
   "source": [
    "# or"
   ]
  },
  {
   "cell_type": "code",
   "execution_count": 22,
   "id": "81b6acd0",
   "metadata": {
    "collapsed": true
   },
   "outputs": [
    {
     "name": "stdout",
     "output_type": "stream",
     "text": [
      "Area is 452.448000\n"
     ]
    }
   ],
   "source": [
    "# Python program to find Area of a circle\n",
    "\n",
    "def findArea(r):\n",
    "\tPI = 3.142\n",
    "\treturn PI * (r*r);\n",
    "print(\"Area is %.6f\" % findArea(12));\n"
   ]
  },
  {
   "cell_type": "code",
   "execution_count": null,
   "id": "51d40f39",
   "metadata": {},
   "outputs": [],
   "source": [
    "m.e"
   ]
  },
  {
   "cell_type": "code",
   "execution_count": null,
   "id": "506f12db",
   "metadata": {},
   "outputs": [],
   "source": [
    "x=15\n",
    "m.factorial(x)"
   ]
  }
 ],
 "metadata": {
  "kernelspec": {
   "display_name": "Python 3",
   "language": "python",
   "name": "python3"
  },
  "language_info": {
   "codemirror_mode": {
    "name": "ipython",
    "version": 3
   },
   "file_extension": ".py",
   "mimetype": "text/x-python",
   "name": "python",
   "nbconvert_exporter": "python",
   "pygments_lexer": "ipython3",
   "version": "3.8.8"
  }
 },
 "nbformat": 4,
 "nbformat_minor": 5
}
