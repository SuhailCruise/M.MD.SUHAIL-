{
 "cells": [
  {
   "cell_type": "markdown",
   "id": "47fcfe88",
   "metadata": {},
   "source": [
    "# Postional Argrument\n"
   ]
  },
  {
   "cell_type": "code",
   "execution_count": 79,
   "id": "d359463d",
   "metadata": {},
   "outputs": [
    {
     "name": "stdout",
     "output_type": "stream",
     "text": [
      "-100\n",
      "400\n"
     ]
    }
   ],
   "source": [
    "def sub (a,b):\n",
    "    return a-b\n",
    "print(sub(100,200))\n",
    "print(sub(500,100))"
   ]
  },
  {
   "cell_type": "markdown",
   "id": "cf8e48c1",
   "metadata": {},
   "source": [
    "# Keyword Argrument\n"
   ]
  },
  {
   "cell_type": "code",
   "execution_count": 101,
   "id": "67547947",
   "metadata": {},
   "outputs": [
    {
     "name": "stdout",
     "output_type": "stream",
     "text": [
      "Hello Friends\n",
      "Welcome\n",
      "to\n",
      "India\n"
     ]
    }
   ],
   "source": [
    "def myFriends(*argv):\n",
    "    for arg in argv:\n",
    "        print (arg)\n",
    "   \n",
    "myFriends('Hello Friends', 'Welcome', 'to', 'India')"
   ]
  },
  {
   "cell_type": "markdown",
   "id": "d97cff56",
   "metadata": {},
   "source": [
    "# OR "
   ]
  },
  {
   "cell_type": "code",
   "execution_count": 125,
   "id": "c9b9f655",
   "metadata": {},
   "outputs": [
    {
     "name": "stdout",
     "output_type": "stream",
     "text": [
      "Hi Rahul\n",
      "how you doing\n"
     ]
    }
   ],
   "source": [
    "def trip (*argv):\n",
    "    for arg in argv:\n",
    "        print(arg)\n",
    "        \n",
    "trip('Hi Rahul','how you doing')"
   ]
  },
  {
   "cell_type": "markdown",
   "id": "922c259a",
   "metadata": {},
   "source": [
    "# Defualt Argrument"
   ]
  },
  {
   "cell_type": "code",
   "execution_count": 130,
   "id": "195cd306",
   "metadata": {},
   "outputs": [],
   "source": [
    "def wish(name=\"guest\"):\n",
    "    print(\"Hello\",name,\"good morning\")\n",
    "    "
   ]
  },
  {
   "cell_type": "code",
   "execution_count": 131,
   "id": "91204f30",
   "metadata": {},
   "outputs": [
    {
     "name": "stdout",
     "output_type": "stream",
     "text": [
      "Hello Rohan good morning\n"
     ]
    }
   ],
   "source": [
    "wish(\"Rohan\")"
   ]
  },
  {
   "cell_type": "code",
   "execution_count": 132,
   "id": "c1a2690a",
   "metadata": {},
   "outputs": [],
   "source": [
    "###If u dont give any input (it ll defualtly takes guest )as you can see below"
   ]
  },
  {
   "cell_type": "code",
   "execution_count": 133,
   "id": "ddb40020",
   "metadata": {},
   "outputs": [
    {
     "name": "stdout",
     "output_type": "stream",
     "text": [
      "Hello guest good morning\n"
     ]
    }
   ],
   "source": [
    "wish()"
   ]
  },
  {
   "cell_type": "markdown",
   "id": "fd320e91",
   "metadata": {},
   "source": [
    "# Variable Length Argrument"
   ]
  },
  {
   "cell_type": "code",
   "execution_count": 153,
   "id": "d72b8e96",
   "metadata": {},
   "outputs": [
    {
     "name": "stdout",
     "output_type": "stream",
     "text": [
      "first == BMW\n",
      "mid == AUDI\n",
      "last == BENZ\n"
     ]
    }
   ],
   "source": [
    "def carrace(**kwargs):\n",
    "    for key, value in kwargs.items():\n",
    "        print (\"%s == %s\" %(key, value))\n",
    "carrace(first ='BMW', mid ='AUDI', last='BENZ')"
   ]
  },
  {
   "cell_type": "markdown",
   "id": "dac04565",
   "metadata": {},
   "source": [
    "# Python Function Return Statement"
   ]
  },
  {
   "cell_type": "code",
   "execution_count": 20,
   "id": "ab3d5298",
   "metadata": {},
   "outputs": [
    {
     "name": "stdout",
     "output_type": "stream",
     "text": [
      "4\n",
      "16\n"
     ]
    }
   ],
   "source": [
    "def square_value(num):\n",
    "\t\"\"\"This function returns the square\n",
    "\tvalue of the entered number\"\"\"\n",
    "\treturn num**2\n",
    "\n",
    "\n",
    "print(square_value(2))\n",
    "print(square_value(-4))\n"
   ]
  },
  {
   "cell_type": "code",
   "execution_count": 22,
   "id": "6d411d8d",
   "metadata": {},
   "outputs": [
    {
     "name": "stdout",
     "output_type": "stream",
     "text": [
      "729\n",
      "343\n"
     ]
    }
   ],
   "source": [
    "# Python code to illustrate the cube of a number\n",
    "# using lambda function\n",
    "def cube(x): return x*x*x\n",
    "cube_v2 = lambda x : x*x*x\n",
    "print(cube(9))\n",
    "print(cube_v2(7))\n"
   ]
  },
  {
   "cell_type": "markdown",
   "id": "a68ef9af",
   "metadata": {},
   "source": [
    "# Type of varaibles\n",
    "\n",
    " 1.LOCAL VARAIBLE \n",
    " \n",
    " AND\n",
    " \n",
    " 2.GLOBAL VARAIBLE"
   ]
  },
  {
   "cell_type": "code",
   "execution_count": 24,
   "id": "d88ac50d",
   "metadata": {},
   "outputs": [
    {
     "name": "stdout",
     "output_type": "stream",
     "text": [
      "I love India\n"
     ]
    }
   ],
   "source": [
    "def f():\n",
    "\t\n",
    "\t# local vairable\n",
    "\ts = \"I love India\"\n",
    "\tprint(s)\n",
    "\n",
    "# Driver code\n",
    "f()\n"
   ]
  },
  {
   "cell_type": "code",
   "execution_count": null,
   "id": "32f9fc84",
   "metadata": {},
   "outputs": [],
   "source": []
  }
 ],
 "metadata": {
  "kernelspec": {
   "display_name": "Python 3",
   "language": "python",
   "name": "python3"
  },
  "language_info": {
   "codemirror_mode": {
    "name": "ipython",
    "version": 3
   },
   "file_extension": ".py",
   "mimetype": "text/x-python",
   "name": "python",
   "nbconvert_exporter": "python",
   "pygments_lexer": "ipython3",
   "version": "3.8.8"
  }
 },
 "nbformat": 4,
 "nbformat_minor": 5
}
